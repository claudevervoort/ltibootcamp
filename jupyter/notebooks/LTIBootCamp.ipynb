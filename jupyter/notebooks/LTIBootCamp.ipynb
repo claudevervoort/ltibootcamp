{
 "cells": [
  {
   "cell_type": "markdown",
   "metadata": {},
   "source": [
    "<img src=\"assets/bootcamp.png\">\n",
    "\n",
    "# **LTI&trade; Advantage** bootcamp notebook for Tool\n",
    "\n",
    "Ping me if you have any question or feedback: claude.vervoort@gmail.com\n",
    "\n",
    "This bootcamp code is available on: https://ltibootcamp.theedtech.dev, if you want to look at the code or run it on your local laptop/network.\n",
    "\n",
    "Make sure to also visit [IMS Global](https://https://www.imsglobal.org/activity/learning-tools-interoperability), that's where the actual specifications live, and where you can find add additional resources.\n",
    "\n",
    "## Introduction\n",
    "\n",
    "The notebook shows how to interact with the LTI Advantage ecosystem from a learning tool implementer viewpoint. It interacts with an actual test server acting as an LTI Platform simumlator to support this notebook.\n",
    "\n",
    "If you want a refreshed on what is LTI and LTI Advantage, you can check the 9 minutes video here or on [youtube](https://www.youtube.com/watch?v=f_6pWiQpg5s).\n"
   ]
  },
  {
   "cell_type": "code",
   "execution_count": null,
   "metadata": {},
   "outputs": [],
   "source": [
    "from IPython.display import display, Markdown, HTML, Javascript, IFrame\n",
    "\n",
    "display(IFrame(src='https://www.youtube.com/embed/f_6pWiQpg5s', width=560, height=315))"
   ]
  },
  {
   "cell_type": "markdown",
   "metadata": {},
   "source": [
    "## Start fresh!\n",
    "\n",
    "Choose the Kernel command: **Restart and clear output** to start fresh!\n",
    "\n",
    "## Limitation\n",
    "\n",
    "<img src=\"assets/bootcamp_arch.png\" width=\"60%\">\n",
    "\n",
    "The test tool platform cannot launch into the bootcamp. So we will initiate the LTI launches directly rather than having those triggered by a call from the platform on a 3rd party initiated login end point."
   ]
  },
  {
   "cell_type": "markdown",
   "metadata": {},
   "source": [
    "# Setup\n",
    "\n",
    "## Libraries and utilities\n",
    "\n",
    "Here we just import the libraries that will be needed in this notebook, define some utility functions and constants."
   ]
  },
  {
   "cell_type": "code",
   "execution_count": null,
   "metadata": {},
   "outputs": [],
   "source": [
    "import requests\n",
    "import json\n",
    "import jwt\n",
    "import base64\n",
    "import re\n",
    "from random import randint\n",
    "from time import time, sleep\n",
    "from datetime import datetime, timedelta\n",
    "from cryptography.hazmat.primitives.asymmetric.rsa import RSAPublicNumbers\n",
    "from cryptography.hazmat.primitives.asymmetric import rsa\n",
    "from cryptography.hazmat.backends import default_backend\n",
    "from cryptography.hazmat.primitives import serialization\n",
    "from cryptography.hazmat.primitives.serialization import Encoding, PublicFormat\n",
    "\n",
    "def decode_int(b64value):\n",
    "    return int.from_bytes(base64.urlsafe_b64decode(b64value), byteorder='big')\n",
    "\n",
    "# for concise code, return full claim \n",
    "def fc(claim, s=None):\n",
    "    suffix = ('-'+s) if s else ''\n",
    "    return 'https://purl.imsglobal.org/spec/lti{0}/claim/{1}'.format(suffix, claim)\n",
    "\n",
    "def scope(scope, s=None):\n",
    "    suffix = ('-'+s) if s else ''\n",
    "    return 'https://purl.imsglobal.org/spec/lti{0}/scope/{1}'.format(suffix, scope)\n",
    "    \n",
    "def md(mdt):\n",
    "    display(Markdown(mdt))\n",
    "    \n",
    "def mdjson(j):\n",
    "    md(\"```{0}```\".format(j))\n",
    "    \n",
    "md_buffer = ''\n",
    "\n",
    "def mdb(mdt=None):\n",
    "    global md_buffer\n",
    "    if mdt:\n",
    "        md_buffer = md_buffer + '\\n' + mdt\n",
    "    else:\n",
    "        md(md_buffer)\n",
    "        md_buffer = ''\n",
    "        \n",
    "# In LTI (and OIDC flows) End user's browser gets redirected from \n",
    "# the platform to the tool (or vice versa) using Autopost forms\n",
    "# i.e pages that add a form and submits it right away.\n",
    "# Since we cannot redirect the full notebook, those interactions\n",
    "# happen in IFrames.\n",
    "def autopost_iframe(name, url, params):\n",
    "    inputs = ''\n",
    "    for key in params.keys():\n",
    "        input = \"\"\"$('<input>').attr({{\n",
    "                    type: 'hidden',\n",
    "                    name: '{name}',\n",
    "                    value: '{value}'\n",
    "                }}).appendTo(ltiForm);\n",
    "                \"\"\".format(name=key, value=params[key])\n",
    "        inputs = inputs + input\n",
    "        autosubmit_js = \"\"\"\n",
    "                var ltiForm = $('<form>');                \n",
    "                ltiForm.attr('action', '{url}');\n",
    "                ltiForm.attr('method', 'POST');\n",
    "                ltiForm.attr('target', '{name}');\n",
    "                {inputs}\n",
    "                $('#{name}').before(ltiForm);\n",
    "                ltiForm.submit();\n",
    "                ltiForm.remove();\n",
    "                \"\"\"\n",
    "\n",
    "    autosubmit_js = autosubmit_js.format(name=name, url=url, inputs=inputs)\n",
    "\n",
    "    #md(autosubmit_js)\n",
    "    display(HTML('<iframe id=\"{name}\" name=\"{name}\" style=\"height: 300px; width:100%\"></iframe>'.format(name=name)))\n",
    "    display(Javascript(data=autosubmit_js, \n",
    "                   lib=\"https://code.jquery.com/jquery-3.3.1.min.js\"))\n",
    "\n"
   ]
  },
  {
   "cell_type": "markdown",
   "metadata": {},
   "source": [
    "## LTI Platform url"
   ]
  },
  {
   "cell_type": "code",
   "execution_count": null,
   "metadata": {},
   "outputs": [],
   "source": [
    "# This notebook queries an actual tool platform test server. It needs its location\n",
    "# if you run the server locally you can use\n",
    "\n",
    "platform_url='http://localhost:5000'\n",
    "\n",
    "# If you are using Docker Compose, change it to platform_url='http://platform:5000'.\n",
    "# There is also a hosted version you can use if this notebook is itself\n",
    "# hosted (i.e. reachable on the internet so the platform can post data to it)\n",
    "# platform_url='https://ltiplatform.theedtech.dev'\n",
    "\n",
    "r = requests.get(platform_url + '/ping')\n",
    "if r.text=='pong!':\n",
    "    md('Platform url set and verified')\n",
    "else:\n",
    "    md('Check platform url')"
   ]
  },
  {
   "cell_type": "markdown",
   "metadata": {},
   "source": [
    "# Call back to this notebook\n",
    "\n",
    "The platform needs to send LTI launches data to this notebook. It is started with an extension to receive that data and display it. This is checking the URL is correct and the extension set."
   ]
  },
  {
   "cell_type": "code",
   "execution_count": null,
   "metadata": {},
   "outputs": [],
   "source": [
    " %%javascript\n",
    "var kernel = IPython.notebook.kernel\n",
    "var host = window.location.href.split('/notebooks')[0]\n",
    "kernel.execute(\"notebook_url='\"+host+\"'\")\n"
   ]
  },
  {
   "cell_type": "code",
   "execution_count": null,
   "metadata": {},
   "outputs": [],
   "source": [
    "r = requests.get(notebook_url + '/ping')\n",
    "if r.text=='pong!':\n",
    "    md('Notebook url set and verified')\n",
    "else:\n",
    "    md('Check notebook url, possibly set it manually. Check Jupyter was started with extension.')"
   ]
  },
  {
   "cell_type": "markdown",
   "metadata": {},
   "source": [
    "# Registering a new tool\n",
    "\n",
    "Trust in LTi 1.3 is based on Public/Private keys. See [Trust in LTI Advantage](https://youtu.be/bWMVneE7vqI)."
   ]
  },
  {
   "cell_type": "code",
   "execution_count": null,
   "metadata": {},
   "outputs": [],
   "source": [
    "display(IFrame(width=560, height=315, src='https://www.youtube.com/embed/bWMVneE7vqI'))"
   ]
  },
  {
   "cell_type": "markdown",
   "metadata": {},
   "source": [
    "\n",
    "\n",
    "## Deploying tool and establishing keys\n",
    "\n",
    "### get the tool deployment info to use in this notebook\n",
    "\n",
    "First we need to get a new tool deployment from the server for this notebook instance to use.\n",
    "Each tool must have a `client_id` and a private key that will be used to interact with the platform services and send messages back to the platform. The `client_id` is used to for security purposes. A trust may be shared across multiple deployments of the same tool in a platform, so a `deployment_id` is also communicated to identify the actual deployment of that tool.\n",
    "\n",
    "It also needs the keyset URL that exposes the platform public keys needed to validate the incoming messages.\n",
    "\n",
    "While this information is required for each tool, how it is obtained by the tool is NOT currently part of the LTI specifications.\n",
    "\n",
    "<img src=\"assets/security.png\" width=\"70%\">"
   ]
  },
  {
   "cell_type": "markdown",
   "metadata": {},
   "source": [
    "#### Compute a Private/Public key pair for this notebook"
   ]
  },
  {
   "cell_type": "code",
   "execution_count": null,
   "metadata": {},
   "outputs": [],
   "source": [
    "notebook_private_key = rsa.generate_private_key(\n",
    "    public_exponent=65537,\n",
    "    key_size=2048,\n",
    "    backend=default_backend()\n",
    ")\n",
    "\n",
    "notebook_public_key = notebook_private_key.public_key()\n",
    "\n",
    "public_key_pem = notebook_public_key.public_bytes(\n",
    "    encoding=serialization.Encoding.PEM,\n",
    "    format=serialization.PublicFormat.SubjectPublicKeyInfo)\n",
    "\n",
    "\n",
    "mdb(\"Private key asserts the **identity** of the tool. It should be stored securely and \")\n",
    "mdb(\"ideally it should not be possible for a human to even see it, even less share it!\")\n",
    "mdb(\"However the public key can be shared around, here is the public in the common\")\n",
    "mdb(\"PEM format that identifies this notebook instance:\")\n",
    "mdb()\n",
    "mdjson(public_key_pem.decode('utf-8'))"
   ]
  },
  {
   "cell_type": "markdown",
   "metadata": {},
   "source": [
    "#### Redirect URI\n",
    "\n",
    "We need to register the Redirect URI to where the OpenId Connect response can be returned. While this notebook only register a single `redirect_uri` it is common for tools to register more than one as platforms are discouraged to allow pattern matching for those (i.e. a platform should always check for an exact match)\n",
    "\n",
    "This URL is specific to this notebook instance which is extended with a handler to display the actual authentication response from where you can copy the actual token value."
   ]
  },
  {
   "cell_type": "code",
   "execution_count": null,
   "metadata": {},
   "outputs": [],
   "source": [
    "redirect_uri = \"{0}/auth\".format(notebook_url)\n",
    "\n",
    "md(\"redirect URI is \"+redirect_uri)"
   ]
  },
  {
   "cell_type": "code",
   "execution_count": null,
   "metadata": {
    "scrolled": false
   },
   "outputs": [],
   "source": [
    "registration_data = {\n",
    "    'public_key_pem':public_key_pem,\n",
    "    'redirect_uris': redirect_uri #comma separated list of redirect_uris\n",
    "}\n",
    "\n",
    "r = requests.post(platform_url + '/newtool', data=registration_data, verify=False)\n",
    "tool_info = json.loads(r.text)\n",
    "\n",
    "md('### Tool registration information')\n",
    "md('Here is the tool information generated for this notebook. It is stored in ```tool_info``` variable.')\n",
    "mdjson(json.dumps(tool_info, indent=4))"
   ]
  },
  {
   "cell_type": "markdown",
   "metadata": {},
   "source": [
    "### Getting the public keys from the platform\n",
    "\n",
    "In order to validate the various messages we will receive from the platform, we need to get the key sets. We'll also transform the keys to the `PEM` format that is used by the `jwt` module to decode the messages.\n",
    "\n",
    "The test platform exposes its keys in a keyset format at a well-know location (.well-known/jwks.json). Other platform might just communicate the keyset url as part of the tool deployment information."
   ]
  },
  {
   "cell_type": "code",
   "execution_count": null,
   "metadata": {
    "scrolled": true
   },
   "outputs": [],
   "source": [
    "keyset = json.loads(requests.get(tool_info['keyset_url']).text)\n",
    "\n",
    "md('#### Platform keyset')\n",
    "mdjson(json.dumps(keyset, indent=4))\n",
    "\n",
    "platform_keys = {}\n",
    "\n",
    "# let's transform as a map for ease of use, and just the PEM because this is what is used by JWT lib\n",
    "for key in keyset['keys']:\n",
    "    public_key = RSAPublicNumbers(decode_int(key['e']), decode_int(key['n'])).public_key(default_backend())\n",
    "    pem = public_key.public_bytes(Encoding.PEM, PublicFormat.SubjectPublicKeyInfo)\n",
    "    platform_keys[key['kid']] = pem\n",
    "    \n"
   ]
  },
  {
   "cell_type": "markdown",
   "metadata": {},
   "source": [
    "# LTI Launches and OpenId Connect \n",
    "\n",
    "LTI Launches are now done in 2 steps: \n",
    "\n",
    "1. a pre-flight indicating to the tool a launch is intended to happen. The tool indicates where that launch data should be sent (`redirect_uri`) and also mark the browser that will make this request to avoid cross-site request forgery, which the LTI 1.1 family is susceptible to. \n",
    "2. Then the learning platform issues the lti launch payload in the form on an `id_token` back to the tool. The tool can correlate that request with the browser marker to make sure the launch is happening from a browser that requested it.\n",
    "If all that sounds vaguely familiar, it's no accident: the LTI Launch is now following the 3rd Party initiated login from OpenId Connect.\n",
    "\n",
    "This is summarized in this diagram. Note that this notebook cannt be launched from the platform, so we simulate the 1st leg in the launches below.\n",
    "\n",
    "<img src=\"assets/ltioidcflow.png\" width=\"70%\">\n",
    "\n",
    "You can also check the [LTI Launch and OIDC video](https://youtu.be/g3y4vwtP6vQ)."
   ]
  },
  {
   "cell_type": "code",
   "execution_count": null,
   "metadata": {},
   "outputs": [],
   "source": [
    "display(IFrame(width=560, height=315, src='https://www.youtube.com/embed/g3y4vwtP6vQ'))"
   ]
  },
  {
   "cell_type": "markdown",
   "metadata": {},
   "source": [
    "# Deep Linking - Creating a Link\n",
    "This section will use the deep linking specification to create a Resource Link to the platform. That resource link will be gradable and used in the following sections of that notebook.\n",
    "\n",
    "[Deep Linking](https://www.imsglobal.org/specs/lticiv1p0) is a **UI flow**, it is an important piece that is sometimes missed on 1st reading. The user is redirected from the platform to the tool to pick or create one or multiple piece of content (often, LTI links), and the the tool redirects the UI back to the tool with the actual selection (or an empty payload if nothing was picked or created).\n",
    "\n",
    "So there are 2 messages:\n",
    "\n",
    "1. `LtiDeepLinkingRequest` from the platform to the tool to start the picking/create session. This is a typical platform launch that contains the context and the user information, and what kind of content items may be created in this flow (for example, this flow might indicate it only wants LTI links).\n",
    "1. `LtiDeepLinkingResponse` from the tool back to the plaform using the `content_item_return_url` provided in the request.\n",
    "\n",
    "Once a tool is added to a course, usually the first launch from the platform will be a Deep Linking request.\n",
    "\n",
    "<img src=\"assets/deeplinking.png\" width=\"60%\">"
   ]
  },
  {
   "cell_type": "markdown",
   "metadata": {},
   "source": [
    "### Setup: Getting a Deep Linking Request\n",
    "\n",
    "This notebook is not actually launched by the platform, so it is not getting the initiate login request that usually  bootstraps the LTI message flow. Instead we will just pretend we got that request and the 2 parameters it contains, and just build those locally.\n",
    "\n",
    "We also compute a `state` and a `nonce` we will pass along that will serve as the Cross-Site Scripting protection (XSRF). They  must be tied to the end user's browser session. The use of `state` is optional, `nonce` is required. `state` will be passed back as separate parameter while `nonce` will be included in the token. `nonce` should not be re-used in subsequent requests as they uniquely identfy an authentication request."
   ]
  },
  {
   "cell_type": "code",
   "execution_count": null,
   "metadata": {},
   "outputs": [],
   "source": [
    "# Prentending this is what we received from the Platform to initiate the deep linking flow\n",
    "init_login_request = {\n",
    "    'iss': platform_url,\n",
    "    'login_hint': 'instructor', #value is opaque to tool, ex: tie to end user's platform's session\n",
    "    'lti_message_hint': 'deeplink', #value is opaque to tool, optional\n",
    "    'target_link_uri': 'https://ltibc.dummy/deeplink' #actual URL to launch at the end of the auth flow\n",
    "}\n",
    "\n",
    "# client_id and deployment_id may also be included in the init_login_request, which may be handy to route\n",
    "# to the right redirect_uri\n",
    "\n",
    "orig_state = 'XSRF_session_bound_value_{r}'.format(r=randint(0, 100000))\n",
    "\n",
    "# Using the same value for the nonce\n",
    "nonce = orig_state"
   ]
  },
  {
   "cell_type": "markdown",
   "metadata": {},
   "source": [
    "Now that we have the platform's request data and a `state` we can send an auth request, the response will contain the `state` back and the `id_token` which, in addition to carrying the user's identity, contains the information such as course and user's role required to show the proper UI that will allow the user to either pick or create resources to add the course.\n",
    "\n",
    "The launch flow involves a request from the browser to the platform, which bounces back to the tool. To allow this in this notebook, the actual interaction takes place in an IFrame.\n",
    "\n",
    "First we create the auth request URL by appending the required parameters to the auth URL provided by us during registration:\n"
   ]
  },
  {
   "cell_type": "code",
   "execution_count": null,
   "metadata": {},
   "outputs": [],
   "source": [
    "auth_request_params = {\n",
    "    'scope': 'open_id', #we only use the flow for OIDC, not to get an access token\n",
    "    'response_type': 'id_token',\n",
    "    'client_id': tool_info['client_id'],\n",
    "    'login_hint': init_login_request['login_hint'],\n",
    "    'lti_message_hint': init_login_request['lti_message_hint'],\n",
    "    'response_mode': 'form_post', # with LTI we expect the user to already have a session in the platform\n",
    "    'nonce': nonce, #a nonce compared to state should fail if replayed\n",
    "    'state': orig_state, #state is optional\n",
    "    'redirect_uri': redirect_uri\n",
    "}\n",
    "\n",
    "autopost_iframe('deeplinking', tool_info['oidc_auth_endpoint'], auth_request_params)"
   ]
  },
  {
   "cell_type": "code",
   "execution_count": null,
   "metadata": {},
   "outputs": [],
   "source": [
    "# Set the id_token variable here\n",
    "# id_token='xxxx'\n",
    "\n",
    "id_token='eyJraWQiOiIxNTU3NjAzNTgxXzMiLCJ0eXAiOiJKV1QiLCJhbGciOiJSUzI1NiJ9.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.CzUd3yOW_AyJIQKegf1tOKAPv1gm_DfsoNXoSj28Vf47U-BX1KXQIjXooQcygswvimi60PQlHzf5PmKpe9yqzYCU9joVig8cTZm_DuNI7Wl35n1haeP_ufM3NDB6b3MoLD969DgwkaEU-FZeiOlahyDNynVCHE9FjQ-cdLYTJTHuEhXXMpjaxgXlRUK3RI43-b7TmLfQIfc-fuLhpbEnJPsK2kOrfUgUYEEQySidcJLN11eQbwY6IVBGJ5Vg9P3Gnt64nTol1HOQoZn0wLoff3mG_9itlaTbFTia824Z0XjHEBiN0RrYzP53RSNKdCauVs8pM7BJaa1qgdP8YybEDg'"
   ]
  },
  {
   "cell_type": "markdown",
   "metadata": {},
   "source": [
    "### Task 1: Verify the JWT is properly signed\n",
    "\n",
    "The first thing before to display to the user the picker/authoring interface to create the link is to validate this request is properly signed. This is done by decoding the JWT using public key from the platform.\n"
   ]
  },
  {
   "cell_type": "code",
   "execution_count": null,
   "metadata": {},
   "outputs": [],
   "source": [
    "# Let's get the kid so we can get the proper public key\n",
    "\n",
    "# should check ISS first to lookup keyset\n",
    "\n",
    "encoded_jwt = id_token\n",
    "jwt_headers = jwt.get_unverified_header(encoded_jwt)\n",
    "\n",
    "md('This request is signed with key: {0}'.format(jwt_headers['kid']))\n",
    "content_item_message = jwt.decode(encoded_jwt, \n",
    "                                  platform_keys[jwt_headers['kid']], \n",
    "                                  jwt_headers['alg'],\n",
    "                                  audience = tool_info['client_id'])\n",
    "\n",
    "md('#### Message properly signed! Decoded ContentItemSelectionRequest message:')\n",
    "md('```json\\n'+ json.dumps(content_item_message, indent=4)+'```')\n",
    "\n",
    "if content_item_message['nonce']==nonce:\n",
    "    md('Nonce match, the response is intended for this notebook' )\n",
    "else:\n",
    "    md('Nonce mismatch, this id_token was not requested by this notebook')\n",
    "    \n"
   ]
  },
  {
   "cell_type": "markdown",
   "metadata": {},
   "source": [
    "### Task 2: extract the information needed to render the selector/authoring UI\n",
    "\n",
    "If this is the first launch for the user or the course, as a tool you may prompt the user for setup information, including account linking or course setup. Ultimately the user will see the authoring or picking interface that will allow her to create or select the content items to be added to the course.\n",
    "\n",
    "Some key attributes of the `ContentItemSelectionRequest` will drive the experience:"
   ]
  },
  {
   "cell_type": "code",
   "execution_count": null,
   "metadata": {},
   "outputs": [],
   "source": [
    "# fc(claim) prefix the claim with http://imsglobal.org/lti/\n",
    "mdb('1. What is the current course id? {0}'.format(content_item_message[fc('context')]['id']))\n",
    "mdb('1. What is the current user id? {0}'.format(content_item_message['sub']))\n",
    "is_instructor = len(list(filter(lambda x: 'instructor' in x.lower(), content_item_message[fc('roles')])))>0\n",
    "mdb('1. Is this user an instructor? {0}'.format(is_instructor))\n",
    "deep_linking_claim = content_item_message[fc('deep_linking_settings', 'dl')]\n",
    "mdb('1. What kind of content item can be created? {0}'.format(deep_linking_claim['accept_types']))\n",
    "mdb('1. Can I return more than one items to be added? {0}'.format(deep_linking_claim['accept_multiple']))\n",
    "mdb('1. Will the user be prompted before to actually save the items? {0}'.format(not deep_linking_claim['auto_create']))\n",
    "deep_linking_return_url = content_item_message[fc('launch_presentation')]['return_url']\n",
    "mdb('1. Where should I redirect the browser too when done? {0}'.format(deep_linking_return_url))\n",
    "mdb('1. Is there any data I must pass back to platform when I return? {0}'.format('data' in deep_linking_claim))\n",
    "mdb()"
   ]
  },
  {
   "cell_type": "markdown",
   "metadata": {},
   "source": [
    "### Task 3: building the response token\n",
    "\n",
    "After the end of the interaction, so user is sent back to the platform throught a browser redirection using an HTTP POST containing the JWT `ContentItemResponse` message. In this case, we will return 2 LTI links, one being graded (since the request supports multiple content items).\n",
    "\n",
    "Here we're creating the actual response token."
   ]
  },
  {
   "cell_type": "code",
   "execution_count": null,
   "metadata": {},
   "outputs": [],
   "source": [
    "## First let's create our 2 content items\n",
    "## Note that the URLs are phony as for now there is now way to launch in the notebook anyway...\n",
    "simple_link =  {\n",
    "      \"type\": \"ltilink\",\n",
    "      \"url\": \"https://lti.bootcamp/item111\",\n",
    "      \"window\": {\n",
    "        \"targetName\": \"bootcamp-win\"\n",
    "      },\n",
    "      \"iframe\": {\n",
    "        \"height\": 890\n",
    "      },\n",
    "      \"title\": \"A simple content item\",\n",
    "      \"text\": \"Some long text\",\n",
    "      \"icon\": {\n",
    "        \"url\": \"http://lti.example.com/image.jpg\",\n",
    "        \"width\": 100,\n",
    "        \"height\": 100\n",
    "      },\n",
    "      \"custom\": {\n",
    "        \"lab\": \"sim4e\"\n",
    "      }\n",
    "}\n",
    "\n",
    "assignment_link =  {\n",
    "      \"type\": \"ltilink\",\n",
    "      \"title\": \"An assignment\",\n",
    "      \"url\": \"https://lti.bootcamp/assignment1\",\n",
    "      \"text\": \"Chemical lab sim\",\n",
    "      \"window\": {\n",
    "        \"targetName\": \"examplePublisherContent\"\n",
    "      },\n",
    "      \"iframe\": {\n",
    "        \"height\": 890\n",
    "      },\n",
    "      \"icon\": {\n",
    "        \"url\": \"http://lti.example.com/image.jpg\",\n",
    "        \"width\": 100,\n",
    "        \"height\": 100\n",
    "      },\n",
    "      \"custom\": {\n",
    "        \"lab\": \"sim3a\",\n",
    "        \"level\": \"easy\"\n",
    "      },\n",
    "      \"lineItem\": {\n",
    "        \"scoreMaximum\": 34,\n",
    "        \"label\": \"Chemical lab sim\",\n",
    "        \"resourceId\": \"sim3a\",\n",
    "        \"tag\": \"final_grade\"\n",
    "      }\n",
    "}\n",
    "\n",
    "now = int(time())\n",
    "\n",
    "deep_linking_response = {\n",
    "    \"iss\": tool_info['client_id'],\n",
    "    \"aud\": content_item_message['iss'],\n",
    "    \"exp\": now + 60,\n",
    "    \"iat\": now,\n",
    "    fc('message_type'): \"DeepLinkingResponse\",\n",
    "    fc('version'): \"1.3.0\",\n",
    "    fc('content_items', 'dl'): [\n",
    "        simple_link, assignment_link\n",
    "    ]\n",
    "    \n",
    "}"
   ]
  },
  {
   "cell_type": "markdown",
   "metadata": {},
   "source": [
    "### Task 4: build the signed JWT"
   ]
  },
  {
   "cell_type": "code",
   "execution_count": null,
   "metadata": {},
   "outputs": [],
   "source": [
    "deep_linking_response_token = jwt.encode(deep_linking_response, notebook_private_key, 'RS256').decode()\n",
    "\n",
    "print(deep_linking_response_token)"
   ]
  },
  {
   "cell_type": "markdown",
   "metadata": {},
   "source": [
    "### Task 5: redirect the user back to the platform with the content item selection\n",
    "\n",
    "Now that we the response token, let's do the actual HTML POST redirection to the platform. Note that because the platform supports `autocreate` there will be no prompt. The 2 items will be added directly to the course.\n"
   ]
  },
  {
   "cell_type": "code",
   "execution_count": null,
   "metadata": {},
   "outputs": [],
   "source": [
    "\n",
    "autosubmit_js = \"\"\"\n",
    "                var ltiForm = $('<form>');                \n",
    "                ltiForm.attr('action', '{url}');\n",
    "                ltiForm.attr('method', 'POST');\n",
    "                ltiForm.attr('target', 'deeplinking_frame');\n",
    "                $('<input>').attr({{\n",
    "                    type: 'hidden',\n",
    "                    name: 'jws_token',\n",
    "                    value: '{token}'\n",
    "                }}).appendTo(ltiForm);\n",
    "                $('#deeplinking_frame').before(ltiForm);\n",
    "                ltiForm.submit();\n",
    "                ltiForm.remove();\n",
    "                \"\"\"\n",
    "\n",
    "autosubmit_js = autosubmit_js.format(url=deep_linking_return_url, token=deep_linking_response_token)\n",
    "\n",
    "display(HTML('<iframe id=\"deeplinking_frame\" name=\"deeplinking_frame\" style=\"height: 300px; width:100%\"></iframe>'))\n",
    "display(Javascript(data=autosubmit_js, \n",
    "                   lib=\"https://code.jquery.com/jquery-3.3.1.min.js\"))"
   ]
  },
  {
   "cell_type": "markdown",
   "metadata": {},
   "source": [
    "## Student Resource Link launch\n",
    "\n",
    "Now that we have created resource links, let's handle a student launch from one of them. We're going to use a resource link with a **coupled** line item, so that we can use it to send a score back to the platform.\n",
    "\n",
    "### Setup\n",
    "\n",
    "The first thing we need, as with deep linking, is to get from the test platform the launch token which an actual tool would get in an actual HTML Form Post."
   ]
  },
  {
   "cell_type": "code",
   "execution_count": null,
   "metadata": {},
   "outputs": [],
   "source": [
    "# all messages are sent the same way, the Learning Platform indicates it wants to start an auth flow;\n",
    "# login_hint, lti_message_hint if used are black box to the tool and must be passed untouched in the\n",
    "# auth request\n",
    "\n",
    "# in our case though we will build here the lti_message_hint needed by the Platform\n",
    "\n",
    "context_id= content_item_message[fc('context')]['id']\n",
    "\n",
    "# we want to launch in the assignment\n",
    "# select the assignment id from the ones displayed in the course platform in the IFrame above\n",
    "resource_link_id='d74a7af9-40f3-11e9-b6a6-024283bd1de6' \n",
    "\n",
    "message_hint = '{0}rlid{1}'.format(context_id, resource_link_id)\n",
    "\n",
    "init_login_request = {\n",
    "    'iss': platform_url,\n",
    "    'login_hint': 'student', #value is opaque to tool, ex: tie to end user's platform's session\n",
    "    'lti_message_hint': message_hint,\n",
    "    'target_link_uri': 'https://lti.bootcamp/assignment1' #actual URL to launch at the end of the flow, would be the url provided in LtiResourceLink payload if provided\n",
    "}\n",
    "\n",
    "orig_state = 'XSRF_session_bound_value_{r}'.format(r=randint(0, 100000))\n",
    "\n",
    "# Using the same value for the nonce\n",
    "nonce = orig_state\n",
    "\n",
    "auth_request_params = {\n",
    "    'scope': 'open_id', #we only use the flow for OIDC, not to get an access token\n",
    "    'response_type': 'id_token',\n",
    "    'client_id': tool_info['client_id'],\n",
    "    'login_hint': init_login_request['login_hint'],\n",
    "    'lti_message_hint': init_login_request['lti_message_hint'],\n",
    "    'response_mode': 'form_post', # with LTI we expect the user to already have a session in the platform\n",
    "    'nonce': nonce, #a nonce compared to state should fail if replayed\n",
    "    'state': orig_state, #state is optional\n",
    "    'redirect_uri': redirect_uri\n",
    "}\n",
    "\n",
    "autopost_iframe('resourcelink', tool_info['oidc_auth_endpoint'], auth_request_params)"
   ]
  },
  {
   "cell_type": "markdown",
   "metadata": {},
   "source": [
    "### Task 1: Decode the launch\n",
    "\n",
    "Now, same as with the Deep Linking request, we decode the token:"
   ]
  },
  {
   "cell_type": "code",
   "execution_count": null,
   "metadata": {
    "scrolled": true
   },
   "outputs": [],
   "source": [
    "# paste token here id_token = ''\n",
    "id_token='eyJ0eXAiOiJKV1QiLCJhbGciOiJSUzI1NiIsImtpZCI6IjE1NTE5NzUxMDNfMSJ9.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.a5Ebs-gi4SL2jPMoByWKzchImZHumf_7s3_h8iht5hWNz4ZtbV1FzW4PaNoF_lucgA4mFKwwQykLjpgSazXfn4VBTcKHjJmqoZSIXH5CtO0OCUTn2Qem0jJv7vdta4cQAN661FlnkR5fH103QRqd4vLa3Ny0ltn25V2YEb35HLEVR26_NiF6TdI1FSxDnqQrRGI8jlXt8obJ_sKFYkFTWWw70jD0-O_dU_gPYbVorETLDYYvr9naIRolwXDoNN11ozaGCv4H56G2_m4-ycEmnGKfAlVQId8VGJAPSerS0hKAVU3P2uTIP5X1eW5E3oop3P1ZFq9l99ZSRH-_JE_8ZA'\n",
    "jwt_headers = jwt.get_unverified_header(id_token)\n",
    "\n",
    "student_launch = jwt.decode(id_token, \n",
    "                            platform_keys[jwt_headers['kid']], \n",
    "                            jwt_headers['alg'],\n",
    "                            audience = tool_info['client_id'])\n",
    "\n",
    "md('```json\\n'+ json.dumps(student_launch, indent=4)+'```')"
   ]
  },
  {
   "cell_type": "markdown",
   "metadata": {},
   "source": [
    "### Task 2: extract information to show the correct activity\n",
    "\n",
    "The launch gives information about the user, her role, the course, but also which actual resource we want to launch into."
   ]
  },
  {
   "cell_type": "code",
   "execution_count": null,
   "metadata": {},
   "outputs": [],
   "source": [
    "# fc(claim) prefix the claim with http://imsglobal.org/lti/\n",
    "mdb('1. Is this a resource link launch? {0}'.format(student_launch[fc('message_type')] == 'LTIResourceLinkLaunch'))\n",
    "mdb('1. What is the id of the resource link that is launched? {0}'.format(student_launch[fc('resource_link')]['id']))\n",
    "mdb('1. What is the name of the resource that is launched? {0}'.format(student_launch[fc('resource_link')]['title']))\n",
    "mdb('1. What is the current course id? {0}'.format(student_launch[fc('context')]['id']))\n",
    "mdb('1. What is the current user id? {0}'.format(student_launch['sub']))\n",
    "is_learner = len(list(filter(lambda x: 'learner' in x.lower(), student_launch[fc('roles')])))>0\n",
    "mdb('1. Is this user a student? {0}'.format(is_learner))\n",
    "return_url = student_launch[fc('launch_presentation')]['return_url']\n",
    "mdb('1. Where should I redirect the browser too when done? {0}'.format(return_url))\n",
    "mdb('1. Which lab should be displayed? {0}'.format(student_launch[fc('custom')]['lab']))\n",
    "ags_claim = student_launch[fc('endpoint', 'ags')]\n",
    "mdb('1. Is there a gradebook column for this resource? {0}'.format('lineitem' in ags_claim))\n",
    "mdb()\n"
   ]
  },
  {
   "cell_type": "markdown",
   "metadata": {},
   "source": [
    "## Assignment and Grade Services: Posting a grade to a coupled line item\n",
    "\n",
    "Now that the student has launched into a grading activity, eventually she will complete it. Let's assume this is an autograded quiz. At the end of the interaction, we're going to send a score.\n",
    "\n",
    "<img src=\"assets/ags.png\" width=\"60%\">\n",
    "\n",
    "The line item (gradebook column) was created declaratively by the platform when the resource link was created (at the end of the deep linking flow). The line item and the resource link are **coupled**. Due to this explicit relationship, the platform passes us directly the associated line item URL, which we will use to send scores. "
   ]
  },
  {
   "cell_type": "markdown",
   "metadata": {},
   "source": [
    "### Task 1: Get an access token\n",
    "\n",
    "To be able to send a grade, or call any service on that matter, we must first get an access token. This is done by using a JWT based client grant flow [RFC-7523](https://tools.ietf.org/html/rfc7523).\n",
    "\n",
    "Here we will re-use the token for the rest of the notebook, so we don't specify scope. If you intend to use the token only for a given operation, it is a good practice to scope it accordingly.\n",
    "\n",
    "The grant type is [client_credentials](https://tools.ietf.org/html/rfc6749#section-1.3.4) as the trust is established between the tool and the platform. The current user and context are not considered.\n",
    "\n",
    "The video [LTI 1.3 Security](https://youtu.be/PavmOAiMUzg) covers how LTI uses OAuth 2 Access token for API protection.\n"
   ]
  },
  {
   "cell_type": "code",
   "execution_count": null,
   "metadata": {},
   "outputs": [],
   "source": [
    "display(IFrame(width=560, height=315, src='https://www.youtube.com/embed/PavmOAiMUzg'))"
   ]
  },
  {
   "cell_type": "code",
   "execution_count": null,
   "metadata": {},
   "outputs": [],
   "source": [
    "## Let's define auth functions we can re-use for other calls\n",
    "\n",
    "private_key_pem = notebook_private_key.private_bytes(\n",
    "    encoding=serialization.Encoding.PEM,\n",
    "    format=serialization.PrivateFormat.TraditionalOpenSSL,\n",
    "    encryption_algorithm=serialization.NoEncryption())\n",
    "\n",
    "\n",
    "def get_token(scope):\n",
    "    display(scope)\n",
    "    token_endpoint = tool_info['accesstoken_endpoint']\n",
    "\n",
    "    now = int(time())\n",
    "\n",
    "    assertion = {\n",
    "        \"iss\": tool_info['client_id'],\n",
    "        \"aud\": token_endpoint,\n",
    "        \"exp\": now + 60,\n",
    "        \"iat\": now,\n",
    "        \"jti\": \"{0}-{1}\".format(tool_info['client_id'], now)\n",
    "    }\n",
    "\n",
    "    assertion_jwt = jwt.encode(assertion, private_key_pem, 'RS256').decode()\n",
    "\n",
    "    return json.loads(requests.post(token_endpoint, data = {\n",
    "        'client_assertion': assertion_jwt,\n",
    "        'grant_type': 'client_credentials',\n",
    "        'scope': scope,\n",
    "        'client_assertion_type': 'urn:ietf:params:oauth:client-assertion-type:jwt-bearer'\n",
    "    }).text)\n",
    "\n",
    "# We'll also need to create a proper header, so let's also create a function for that\n",
    "def add_authorization(headers, access_token):\n",
    "    b64token = base64.b64encode(access_token.encode('utf-8')).decode()\n",
    "    headers.update({'Authorization': 'Bearer {0}'.format(b64token)})\n",
    "\n",
    "    \n"
   ]
  },
  {
   "cell_type": "code",
   "execution_count": null,
   "metadata": {},
   "outputs": [],
   "source": [
    "token_info = get_token('{0} {1}'.format(scope('result.readonly', s='ags'), scope('score', s='ags')))\n",
    "md('#### Access token:')\n",
    "md('```json\\n'+ json.dumps(token_info, indent=4)+'```')"
   ]
  },
  {
   "cell_type": "markdown",
   "metadata": {},
   "source": [
    "### Task 2: Publish a score"
   ]
  },
  {
   "cell_type": "code",
   "execution_count": null,
   "metadata": {
    "scrolled": true
   },
   "outputs": [],
   "source": [
    "# Scores in the subpath scores from lineitem.\n",
    "def append_to_path(path, subpath):\n",
    "    p = re.compile('lineitem($|\\?|#)')\n",
    "    return p.sub('lineitem/{0}\\\\1'.format(subpath), path)\n",
    "\n",
    "scores_url = append_to_path(ags_claim['lineitem'], 'scores')\n",
    "\n",
    "score = {\n",
    "    'userId': student_launch['sub'],\n",
    "    'scoreGiven': 9,\n",
    "    'scoreMaximum': 10,\n",
    "    'activityProgress': 'Completed',\n",
    "    'gradingProgress': 'FullyGraded',\n",
    "    'timestamp': datetime.utcnow().isoformat()\n",
    "}\n",
    "\n",
    "headers = {'Content-Type': 'application/vnd.ims.lis.v1.score+json'}\n",
    "add_authorization(headers, token_info['access_token'])\n",
    "\n",
    "r = requests.post(scores_url.encode(), headers=headers, data=json.dumps(score), verify=False)\n",
    "\n",
    "# let's check it was OK\n",
    "r.raise_for_status()\n",
    "\n",
    "md('The score was processed successfully be the back-end')\n",
    "\n",
    "\n"
   ]
  },
  {
   "cell_type": "markdown",
   "metadata": {},
   "source": [
    "### Task 3: get the results\n",
    "\n",
    "Let's not get the results to see our operation did actually succeed"
   ]
  },
  {
   "cell_type": "code",
   "execution_count": null,
   "metadata": {},
   "outputs": [],
   "source": [
    "results_url = append_to_path(ags_claim['lineitem'], 'results')\n",
    "\n",
    "headers = {'Content-Type': 'application/vnd.ims.lis.v2.resultcontainer+json'}\n",
    "add_authorization(headers, token_info['access_token'])\n",
    "\n",
    "r = requests.get(results_url.encode(), headers=headers)\n",
    "\n",
    "# let's check it was OK\n",
    "r.raise_for_status()\n",
    "\n",
    "md('#### Current results for item')\n",
    "md('```json\\n'+ json.dumps(r.json(), indent=4)+'```')\n",
    "\n"
   ]
  },
  {
   "cell_type": "markdown",
   "metadata": {},
   "source": [
    "### Task 4: marking a score as needing grading\n",
    "Assignment and Grade services allow for more than just passing grade. Let's say we just want to mark a submission was done, and the instructor requires to manually grade the essay. In which case, we can post a Score indicating the status of the activity is completed, and the grading needs manual intervention using the `activityProgress` and `gradingProgress` attributes."
   ]
  },
  {
   "cell_type": "code",
   "execution_count": null,
   "metadata": {},
   "outputs": [],
   "source": [
    "score = {\n",
    "    'userId': student_launch['sub'],\n",
    "    'activityProgress': 'Completed',\n",
    "    'gradingProgress': 'PendingManual',\n",
    "    'timestamp': datetime.utcnow().isoformat()\n",
    "}\n",
    "\n",
    "headers = {'Content-Type': 'application/vnd.ims.lis.v1.score+json'}\n",
    "add_authorization(headers, token_info['access_token'])\n",
    "\n",
    "r = requests.post(scores_url.encode(), headers=headers, data=json.dumps(score))\n",
    "\n",
    "# let's check it was OK\n",
    "r.raise_for_status()\n",
    "\n",
    "md('The score was processed successfully be the back-end')\n"
   ]
  },
  {
   "cell_type": "markdown",
   "metadata": {},
   "source": [
    "We can see it now in the platform gradebook:"
   ]
  },
  {
   "cell_type": "code",
   "execution_count": null,
   "metadata": {},
   "outputs": [],
   "source": [
    "platform_gradebook_url = '{0}/course/{1}/gradebook'.format(platform_url, student_launch[fc('context')]['id'])\n",
    "display(HTML('<iframe src=\"{0}\" style=\"height: 300px; width:100%\"></iframe>'.format(platform_gradebook_url)))"
   ]
  },
  {
   "cell_type": "markdown",
   "metadata": {},
   "source": [
    "## Assignment and Grade Services - Uncoupled\n",
    "\n",
    "The assignment and grade services support an alternate way to create line items: rather than having the platform creates a line item when it creates a link, a tool may use the API to create standalone line items, i.e. uncoupled from any lti link (the API may optionaly include an ltiLinkId to tie the one or many line items to a single resource link, although platforms will often treat this association as weaker than a declarative flow).\n",
    "\n",
    "Let's use the API to add a new line item, send some scores to it, then delete it.\n"
   ]
  },
  {
   "cell_type": "markdown",
   "metadata": {},
   "source": [
    "### Task 1: get a properly scoped token\n",
    "\n",
    "Same as before, we just need to now ask also for the scope to allow line item management."
   ]
  },
  {
   "cell_type": "code",
   "execution_count": null,
   "metadata": {},
   "outputs": [],
   "source": [
    "token_info = get_token(' '.join([scope('lineitem', s='ags'), scope('score', s='ags'), scope('result.readonly', 'ags')]))\n",
    "\n",
    "md('#### Access token with all assignment and grade services scopes:')\n",
    "md('```json\\n'+ json.dumps(token_info, indent=4)+'```')"
   ]
  },
  {
   "cell_type": "markdown",
   "metadata": {},
   "source": [
    "### Task 2: create a new line item and post score\n",
    "\n",
    "The `lineitems` is the URL representating all the line items in the current context bound to our tool. We can do a GET to see all the existing items, and a POST to add a new one. Let's start by adding one:"
   ]
  },
  {
   "cell_type": "code",
   "execution_count": null,
   "metadata": {},
   "outputs": [],
   "source": [
    "# note the specific mediatype\n",
    "headers = {'Content-Type': 'application/vnd.ims.lis.v2.lineitem+json'}\n",
    "add_authorization(headers, token_info['access_token'])\n",
    "\n",
    "lineitem = {\n",
    "    \"resourceId\": \"bootcamp\",\n",
    "    \"tag\": \"participation\",\n",
    "    \"label\": \"Participation in Bootcamp\",\n",
    "    \"scoreMaximum\": 25\n",
    "}\n",
    "\n",
    "r = requests.post(ags_claim['lineitems'], headers=headers, data=json.dumps(lineitem), verify=False)\n",
    "\n",
    "r.raise_for_status()\n",
    "\n",
    "uncoupled_item = r.json();\n",
    "\n",
    "md('#### Successfully added line item:')\n",
    "md('```json\\n'+ json.dumps(uncoupled_item, indent=4)+'```')\n",
    "\n"
   ]
  },
  {
   "cell_type": "code",
   "execution_count": null,
   "metadata": {},
   "outputs": [],
   "source": [
    "r = requests.get(ags_claim['lineitems'], headers=headers, verify=False)\n",
    "\n",
    "# let's check it was OK\n",
    "r.raise_for_status()\n",
    "\n",
    "md('#### Current line items for this tool in the context')\n",
    "md('```json\\n'+ json.dumps(r.json(), indent=4)+'```')"
   ]
  },
  {
   "cell_type": "markdown",
   "metadata": {},
   "source": [
    "Sending the score to the uncoupled line item is the same as with the coupled one, the id being the line item URL."
   ]
  },
  {
   "cell_type": "code",
   "execution_count": null,
   "metadata": {},
   "outputs": [],
   "source": [
    "scores_url = append_to_path(uncoupled_item['id'], 'scores')\n",
    "\n",
    "score = {\n",
    "    'userId': student_launch['sub'],\n",
    "    'scoreGiven': 10,\n",
    "    'scoreMaximum': 10,\n",
    "    'activityProgress': 'Completed',\n",
    "    'gradingProgress': 'FullyGraded',\n",
    "    'timestamp': datetime.utcnow().isoformat()\n",
    "}\n",
    "\n",
    "headers = {'Content-Type': 'application/vnd.ims.lis.v1.score+json'}\n",
    "add_authorization(headers, token_info['access_token'])\n",
    "\n",
    "r = requests.post(scores_url.encode(), headers=headers, data=json.dumps(score), verify=False)\n",
    "\n",
    "# let's check it was OK\n",
    "r.raise_for_status()\n",
    "\n",
    "md('The score was processed successfully be the back-end')\n"
   ]
  },
  {
   "cell_type": "markdown",
   "metadata": {},
   "source": [
    "### Task 3: Updating the line item\n",
    "\n",
    "Update is done by PUTting the updated definition to the line item  URL (id)."
   ]
  },
  {
   "cell_type": "code",
   "execution_count": null,
   "metadata": {},
   "outputs": [],
   "source": [
    "# note the specific mediatype\n",
    "headers = {'Content-Type': 'application/vnd.ims.lis.v2.lineitem+json'}\n",
    "add_authorization(headers, token_info['access_token'])\n",
    "\n",
    "lineitem = {\n",
    "    \"resourceId\": \"bootcamp\",\n",
    "    \"tag\": \"participation\",\n",
    "    \"label\": \"Participation (uncoupled)\",\n",
    "    \"scoreMaximum\": 30\n",
    "}\n",
    "\n",
    "r = requests.put(uncoupled_item['id'], headers=headers, data=json.dumps(lineitem), verify=False)\n",
    "                           \n",
    "r.raise_for_status()\n",
    "\n",
    "uncoupled_item = r.json();\n",
    "\n",
    "md('#### Successfully updated line item:')\n",
    "md('```json\\n'+ json.dumps(uncoupled_item, indent=4)+'```')\n"
   ]
  },
  {
   "cell_type": "markdown",
   "metadata": {},
   "source": [
    "You can also scroll back up where the platform UI is displayed and check in the gradebook to see the item is present (and scores have been rescaled)."
   ]
  },
  {
   "cell_type": "markdown",
   "metadata": {},
   "source": [
    "### Task 4: Delete the uncoupled line item\n",
    "\n",
    "Deleting is just issuing a DELETE command the line item URL."
   ]
  },
  {
   "cell_type": "code",
   "execution_count": null,
   "metadata": {},
   "outputs": [],
   "source": [
    "# no content type, it's a delete\n",
    "headers = {}\n",
    "add_authorization(headers, token_info['access_token'])\n",
    "\n",
    "r = requests.delete(uncoupled_item['id'], headers=headers, verify=False)\n",
    "                           \n",
    "r.raise_for_status()\n",
    "\n",
    "md('#### Successfully deleted line item')\n"
   ]
  },
  {
   "cell_type": "markdown",
   "metadata": {},
   "source": [
    "## Names and Role Provisioning Service\n",
    "\n",
    "Or more simply, membership service, lets you get the roster of the course.\n",
    "\n",
    "<img src=\"assets/membership.png\" width=\"60%\">\n",
    "\n",
    "This service does not allow any modification of the course roster. At a minimum, the platform will apply the same privacy restrictions that applies to actual launches.\n",
    "\n",
    "### Task 1: Get the full course roster\n",
    "\n",
    "The Assignment and Grade Service endpoint is communicated in the LTI message under the claim `https://purl.imsglobal.org/lti/claim/arps`. The scope to request is `https://purl.imsglobal.org/lti/scope/nrps`.\n",
    "\n"
   ]
  },
  {
   "cell_type": "code",
   "execution_count": null,
   "metadata": {},
   "outputs": [],
   "source": [
    "## Get An Access Token\n",
    "\n",
    "membership_token = get_token(scope('contextmembership.readonly', s='nrps'))\n",
    "\n",
    "## Request the enrollment\n",
    "\n",
    "headers = {'Content-Type': 'application/vnd.ims.lis.v2.membershipcontainer+json'}\n",
    "add_authorization(headers, membership_token['access_token'])\n",
    "membership_url = student_launch[fc('namesroleservice', s='nrps')]['context_memberships_url']\n",
    "\n",
    "r = requests.get(membership_url.encode(), headers=headers, verify=False)\n",
    "\n",
    "r.raise_for_status()\n",
    "\n",
    "roster = r.json();\n",
    "\n",
    "md('#### Successfully retrieved course roster:')\n",
    "md('```json\\n'+ json.dumps(roster, indent=4)+'```')\n"
   ]
  },
  {
   "cell_type": "markdown",
   "metadata": {},
   "source": [
    "## Task 2: Get all changes since previous sync\n",
    "\n",
    "Some platforms will include in their membership payload a `differences` url. This url, when present, allows the tool to update the roster based on the changes since last time the membership was returned, avoiding to transfer the full roster each time.\n",
    "\n",
    "Use the differences url above to check for updates in roster.\n",
    "\n"
   ]
  },
  {
   "cell_type": "code",
   "execution_count": null,
   "metadata": {},
   "outputs": [],
   "source": [
    "r = requests.get(roster['differences'].encode(), headers=headers, verify=False)\n",
    "\n",
    "r.raise_for_status()\n",
    "\n",
    "roster_updates = r.json();\n",
    "\n",
    "md('#### Successfully retrieved roster update:')\n",
    "md('```json\\n'+ json.dumps(roster_updates, indent=4)+'```')\n"
   ]
  },
  {
   "cell_type": "markdown",
   "metadata": {},
   "source": [
    "## Task 3: get all students and paging\n",
    "\n",
    "The service allows also to filter by roles using the `role` parameter. Both short and long version of roles can be used to filter (for example `Learner` and `http://purl.imsglobal.org/vocab/lis/v2/membership#Learner`). So let's limit the results to 3 students using the `limit` parameter."
   ]
  },
  {
   "cell_type": "code",
   "execution_count": null,
   "metadata": {
    "scrolled": false
   },
   "outputs": [],
   "source": [
    "params = {'role':'Learner', 'limit': 3}\n",
    "\n",
    "r = requests.get(membership_url.encode(), params=params, headers=headers, verify=False)\n",
    "\n",
    "r.raise_for_status()\n",
    "\n",
    "roster = r.json();\n",
    "\n",
    "md('#### Students only:')\n",
    "md('```json\\n'+ json.dumps(roster, indent=4)+'```')"
   ]
  },
  {
   "cell_type": "markdown",
   "metadata": {},
   "source": [
    "# Substitution parameters - tailor your launch\n",
    "\n",
    "Substitution parameters allow to have custom parameters resolve at runtime information from the platform. For example, if you would like to know the context history, i.e. from which course this course is a copy from, there is the substitution parameter: `$Context.id.history`. Substitution parameters always start will $ . If the platform supports it, the value will be substituted at runtime, otherwise it will remain `$Context.id.history`.\n",
    "\n",
    "Substitution parameters really allow the tool to tailor its launches based on its particular needs. Substitution parameters may be set during the tool deployment. But it really shines with Deep Linking where the custom parameters can express the substitution parameters to resolve for the added LTI Link.\n",
    "\n",
    "## Task 1: create an LTI Link with a line item and due date support\n",
    "\n",
    "In this exercise, we're going to ask the platform to give us the due date of the activity (when a student is last authorized to submit) `$ResourceLink.submission.endDateTime` and the context history `$Context.id.history`. Since we're at it, we're also going to communicate an initial due date time using the `submission.endDateTime` property in the deep linking item.\n"
   ]
  },
  {
   "cell_type": "code",
   "execution_count": null,
   "metadata": {},
   "outputs": [],
   "source": [
    "# Prentending this is what we received from the Platform to initiate the deep linking flow\n",
    "init_login_request = {\n",
    "    'iss': platform_url,\n",
    "    'login_hint': 'instructor', #value is opaque to tool, ex: tie to end user's platform's session\n",
    "    'lti_message_hint': 'deeplink', #value is opaque to tool, optional\n",
    "    'target_link_uri': 'https://ltibc.dummy/deeplink' #actual URL to launch at the end of the auth flow\n",
    "}\n",
    "\n",
    "orig_state = 'XSRF_session_bound_value_{r}'.format(r=randint(0, 100000))\n",
    "\n",
    "# Using the same value for the nonce\n",
    "nonce = orig_state\n",
    "\n",
    "auth_request_params = {\n",
    "    'scope': 'open_id', #we only use the flow for OIDC, not to get an access token\n",
    "    'response_type': 'id_token',\n",
    "    'client_id': tool_info['client_id'],\n",
    "    'login_hint': init_login_request['login_hint'],\n",
    "    'lti_message_hint': init_login_request['lti_message_hint'],\n",
    "    'response_mode': 'form_post', # with LTI we expect the user to already have a session in the platform\n",
    "    'nonce': nonce, #a nonce compared to state should fail if replayed\n",
    "    'state': orig_state, #state is optional\n",
    "    'redirect_uri': redirect_uri\n",
    "}\n",
    "\n",
    "autopost_iframe('deep_linking_sub_params', tool_info['oidc_auth_endpoint'], auth_request_params)"
   ]
  },
  {
   "cell_type": "code",
   "execution_count": null,
   "metadata": {
    "scrolled": true
   },
   "outputs": [],
   "source": [
    "\n",
    "# paste id_token here\n",
    "id_token = 'eyJ0eXAiOiJKV1QiLCJhbGciOiJSUzI1NiIsImtpZCI6IjE1NTE5NzUxMDNfMiJ9.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.NiJ1HzefbfCKKj3FVYQlgeDD154iN-UgXKzhrdVEUJtUAyGJjGK8d3-ePz7Rpi-FFq8O8Wep5GzagjbqL-BRI5jBQxC3VMuqSNV1gTrjfhUZem8fvm_mPwr7yMt3l88-YdVZ2eLnfvJOwi6gPca1EEAcb5rWXYj2-N9qXODbkD8sN9LEzjU_x2ILS-2XtOBIoFPyoDvehbtPn7OMWSQpkSc1x60yLGe3TeAUZH9CzRkMGIR709mpG7AJilam_jJjdgxGHr90CpCoKDxWHtaHFDT1ZZOwTuctiAyU-rNkZ-G04kO-65w2I2kioFDJltTX_72nroyod405Hm-W43BPkA' \n",
    "jwt_headers = jwt.get_unverified_header(id_token)\n",
    "\n",
    "content_item_message = jwt.decode(id_token, \n",
    "                                  platform_keys[jwt_headers['kid']], \n",
    "                                  jwt_headers['alg'],\n",
    "                                  audience = tool_info['client_id'])\n",
    "\n",
    "# Adding an LTI link with a line item and end date\n",
    "\n",
    "due_date = datetime.utcnow() + timedelta(days=7)\n",
    "\n",
    "duedate_assignment_link =  {\n",
    "      \"type\": \"ltilink\",\n",
    "      \"url\": \"http://lti.bootcamp/item111\",\n",
    "      \"title\": \"Assignment with Dates\",\n",
    "      \"text\": \"Do the assignment before the due date\",\n",
    "      \"icon\": {\n",
    "        \"url\": \"http://lti.example.com/image.jpg\",\n",
    "        \"width\": 100,\n",
    "        \"height\": 100\n",
    "      },\n",
    "      \"custom\": {\n",
    "        \"lab\": \"sim3b\",\n",
    "        \"dueDate\": \"$ResourceLink.submission.endDateTime\",\n",
    "        \"contextHistory\": \"$Context.id.history\"\n",
    "      },\n",
    "      \"lineItem\": {\n",
    "        \"scoreMaximum\": 34,\n",
    "        \"label\": \"Chemical lab sim\",\n",
    "        \"resourceId\": \"sim3a\",\n",
    "        \"tag\": \"final_grade\"\n",
    "      },\n",
    "      \"submission\": {\n",
    "          \"endDateTime\": due_date.isoformat()\n",
    "      },\n",
    "      \"window\": {\n",
    "        \"targetName\": \"ltibootcamp-win\"\n",
    "      },\n",
    "      \"iframe\": {\n",
    "        \"height\": 890\n",
    "      }\n",
    "}\n",
    "\n",
    "now = int(time())\n",
    "\n",
    "\n",
    "deep_linking_response = {\n",
    "    \"iss\": tool_info['client_id'],\n",
    "    \"aud\": content_item_message['iss'],\n",
    "    \"exp\": now + 60,\n",
    "    \"iat\": now,\n",
    "    fc(\"message_type\"): \"DeepLinkingResponse\",\n",
    "    fc(\"version\"): \"1.3.0\",\n",
    "    fc(\"content_items\", s='dl'): [\n",
    "        duedate_assignment_link\n",
    "    ]\n",
    "    \n",
    "}\n",
    "\n",
    "# and return to the platform with the selection\n",
    "\n",
    "deep_linking_response_token = jwt.encode(deep_linking_response, notebook_private_key, 'RS256').decode()\n",
    "\n",
    "autosubmit_js = \"\"\"\n",
    "                var ltiForm = $('<form>');                \n",
    "                ltiForm.attr('action', '{url}');\n",
    "                ltiForm.attr('method', 'POST');\n",
    "                ltiForm.attr('target', 'deeplinking_frame_2');\n",
    "                $('<input>').attr({{\n",
    "                    type: 'hidden',\n",
    "                    name: 'jws_token',\n",
    "                    value: '{token}'\n",
    "                }}).appendTo(ltiForm);\n",
    "                $('#deeplinking_frame_2').before(ltiForm);\n",
    "                ltiForm.submit();\n",
    "                ltiForm.remove();\n",
    "                \"\"\"\n",
    "\n",
    "autosubmit_js = autosubmit_js.format(url=deep_linking_return_url, token=deep_linking_response_token)\n",
    "\n",
    "display(HTML('<iframe id=\"deeplinking_frame_2\" name=\"deeplinking_frame_2\" style=\"height: 300px; width:100%\"></iframe>'))\n",
    "display(Javascript(data=autosubmit_js, \n",
    "                   lib=\"https://code.jquery.com/jquery-3.3.1.min.js\"))"
   ]
  },
  {
   "cell_type": "markdown",
   "metadata": {},
   "source": [
    "## Task 2: launch the activity and verify substitution parameters\n",
    "\n",
    "Now that we have created a link, let's get a student launch and see if on launch we can get the current due date time. Those could indeed have been changed on the platform, or that student may benefit from an actual extension."
   ]
  },
  {
   "cell_type": "code",
   "execution_count": null,
   "metadata": {},
   "outputs": [],
   "source": [
    "# paste the id here of the assignment with dates\n",
    "resource_link_id='617052aa-433a-11e9-b6a6-024283bd1de6' \n",
    "\n",
    "message_hint = '{0}rlid{1}'.format(context_id, resource_link_id)\n",
    "\n",
    "init_login_request = {\n",
    "    'iss': platform_url,\n",
    "    'login_hint': 'student', #value is opaque to tool, ex: tie to end user's platform's session\n",
    "    'lti_message_hint': message_hint,\n",
    "    'target_link_uri': 'https://lti.bootcamp/assignment1' #actual URL to launch at the end of the flow, would be the url provided in LtiResourceLink payload if provided\n",
    "}\n",
    "\n",
    "orig_state = 'XSRF_session_bound_value_{r}'.format(r=randint(0, 100000))\n",
    "\n",
    "# Using the same value for the nonce\n",
    "nonce = orig_state\n",
    "\n",
    "auth_request_params = {\n",
    "    'scope': 'open_id', #we only use the flow for OIDC, not to get an access token\n",
    "    'response_type': 'id_token',\n",
    "    'client_id': tool_info['client_id'],\n",
    "    'login_hint': init_login_request['login_hint'],\n",
    "    'lti_message_hint': init_login_request['lti_message_hint'],\n",
    "    'response_mode': 'form_post', # with LTI we expect the user to already have a session in the platform\n",
    "    'nonce': nonce, #a nonce compared to state should fail if replayed\n",
    "    'state': orig_state, #state is optional\n",
    "    'redirect_uri': redirect_uri\n",
    "}\n",
    "\n",
    "autopost_iframe('resourcelink_with_dates', tool_info['oidc_auth_endpoint'], auth_request_params)"
   ]
  },
  {
   "cell_type": "code",
   "execution_count": null,
   "metadata": {},
   "outputs": [],
   "source": [
    "# Paste id_token here\n",
    "id_token='eyJ0eXAiOiJKV1QiLCJhbGciOiJSUzI1NiIsImtpZCI6IjE1NTE5NzUxMDNfMCJ9.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.ncogCSO-dxO7CmxwdGO15JgFb9Zsrh_z7Q227dgT4VlrnrTDKH_k1MtFJ7yGkq3gZMRtnt5YWiz3-b6zydAYbmsDiev1yGXGx7ksj6qf-ZAoBx3HZc8h6BxfSKD9ooqiF5OCagPf_kcP2KHEI4Ji6YICmCjXwT63SZCjelv78l-rizRuCmJ4JKhLoRgDp3xbu9E1V5TT4kXyDy045fO3t91nsghDvs0HGm9UCavByENxlk61VmCw8D65_1btPNKxQ7YPAcmyhO0L4XIh7FTt3VAvm0vDb5K-fYmy3GF0USM3pwIZsdOawtWWFo8ri038SSgUdpV02IVMZbCfBNfAfw'\n",
    "\n",
    "jwt_headers = jwt.get_unverified_header(id_token)\n",
    "\n",
    "launch = jwt.decode(id_token, \n",
    "                            platform_keys[jwt_headers['kid']], \n",
    "                            jwt_headers['alg'],\n",
    "                            audience = tool_info['client_id'])\n",
    "\n",
    "md('Student `{0}` assignment is due on `{1}`'.format(launch['name'], launch[fc('custom')]['dueDate']))\n",
    "md('The history of this course context is `{0}`'.format(launch[fc('custom')]['contextHistory']))\n"
   ]
  }
 ],
 "metadata": {
  "kernelspec": {
   "display_name": "Python 3",
   "language": "python",
   "name": "python3"
  },
  "language_info": {
   "codemirror_mode": {
    "name": "ipython",
    "version": 3
   },
   "file_extension": ".py",
   "mimetype": "text/x-python",
   "name": "python",
   "nbconvert_exporter": "python",
   "pygments_lexer": "ipython3",
   "version": "3.6.7"
  }
 },
 "nbformat": 4,
 "nbformat_minor": 2
}
